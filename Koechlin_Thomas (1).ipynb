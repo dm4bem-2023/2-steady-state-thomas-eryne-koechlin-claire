{
  "metadata": {
    "language_info": {
      "codemirror_mode": {
        "name": "python",
        "version": 3
      },
      "file_extension": ".py",
      "mimetype": "text/x-python",
      "name": "python",
      "nbconvert_exporter": "python",
      "pygments_lexer": "ipython3",
      "version": "3.8"
    },
    "kernelspec": {
      "name": "python",
      "display_name": "Python (Pyodide)",
      "language": "python"
    }
  },
  "nbformat_minor": 4,
  "nbformat": 4,
  "cells": [
    {
      "cell_type": "code",
      "source": "import numpy as np",
      "metadata": {
        "trusted": true
      },
      "execution_count": null,
      "outputs": []
    },
    {
      "cell_type": "markdown",
      "source": "# PARTIE 1 - MODEL #  \n## Description du sujet #",
      "metadata": {
        "tags": []
      }
    },
    {
      "cell_type": "markdown",
      "source": "![Scheme_building_Koechlin_Thomas.png](Scheme_building_Koechlin_Thomas.)",
      "metadata": {}
    },
    {
      "cell_type": "markdown",
      "source": "Les portes et les murs sont en bois, $lambois$ est le coefficient de conductivité, $Csp$ est la capacité spécifique du bois et $mv$ la masse volumique.",
      "metadata": {}
    },
    {
      "cell_type": "code",
      "source": "lambois = 0.077 \nCsp = 1250\nmv = 370 #kg/m3",
      "metadata": {
        "trusted": true
      },
      "execution_count": null,
      "outputs": []
    },
    {
      "cell_type": "markdown",
      "source": "$Up$ est le coefficient thermique de la porte, en bois, et $Uf$ est le coeffcient thermique de la fenêtre, prise en double vitrage.",
      "metadata": {}
    },
    {
      "cell_type": "code",
      "source": "Up = 2.5\nUf = 1.5",
      "metadata": {},
      "execution_count": null,
      "outputs": []
    },
    {
      "cell_type": "markdown",
      "source": "On impose la température extérieure et On utilise un controleur dans chaque pièce pour imposer la température intérieure. Il y a également un flux dans chaque pièce lié à la présence de personnes.",
      "metadata": {}
    },
    {
      "cell_type": "markdown",
      "source": "![Thermal_circuit (1).jpeg](attachment:5ac8b642-aee9-4aed-af15-3aec73026d47.jpeg)",
      "metadata": {},
      "attachments": {
        "5ac8b642-aee9-4aed-af15-3aec73026d47.jpeg": {
          "image/jpeg": null
        }
      }
    },
    {
      "cell_type": "markdown",
      "source": "## Description des paramètres #\n$Text$ est la température à l'extérieur et $Tc$ est la température imposée à l'intérieur.  \n$hconvext$ est le coefficent de convection sur la surface extérieure des murs.  $hconvint$ est le coefficient de convection sur la surface intérieure des murs.",
      "metadata": {
        "tags": []
      }
    },
    {
      "cell_type": "code",
      "source": "Text = 5+273\nTc = 20+273\nhconvext = 10 #coef de convection à l'extérieur\nhconvint = 2 #coef de onvection à l'intéieur",
      "metadata": {
        "trusted": true
      },
      "execution_count": null,
      "outputs": []
    },
    {
      "cell_type": "markdown",
      "source": "$emext$ est l'épaisseur des murs en contact avec l'extérieur et $emint$ du mur entre les deux pièces.  \n$ep$ est l'épaisseur des portes et ef celle des fenêtres.  \n$Spf$ est la surface des portes et des fenêtres.  \n$Sm1$ est la surface du mur 1.  \n$Sm$ est la surface du mur intérieur et du mur 2",
      "metadata": {}
    },
    {
      "cell_type": "code",
      "source": "emext = 30*(10**(-3))\nemint = 10*(10**(-3))\nep = 10*(10**(-3))\nef = 3*(10**(-3))\nSpf = 2\nSm1 = 30-2*Spf\nSm = 30-Spf",
      "metadata": {
        "trusted": true
      },
      "execution_count": null,
      "outputs": []
    },
    {
      "cell_type": "markdown",
      "source": "Le volume d'air renouvellé par advection est $Va$, et $Vadot$ est le flux d'air.  $rhoair$ est la masse volumique de l'air et $Cair$ est la capacité thermique de l'air.",
      "metadata": {}
    },
    {
      "cell_type": "code",
      "source": "Va = 10*10*3\nACH = 1\nVa_dot = ACH/3600 * Va\nrhoair = 1.3\nCair = 1",
      "metadata": {},
      "execution_count": null,
      "outputs": []
    },
    {
      "cell_type": "markdown",
      "source": "## Calcul des Conductances Thermiques #\n### Advection #\n$G_{advection} = \\rho_{air} . C_{air}. \\dot{V_{a}}$",
      "metadata": {}
    },
    {
      "cell_type": "code",
      "source": "Gad = rhoair*Cair*Va_dot",
      "metadata": {
        "trusted": true
      },
      "execution_count": null,
      "outputs": []
    },
    {
      "cell_type": "markdown",
      "source": "## Calcul des Conductances Thermiques #\n### Convection #\n$G_{convection} = h.S$  \n$Gconvext1$ est la convection sur la surface extérieure du mur 1.  $Gconvint1$ est la convection sur la surface intérieure du mur 1.  \n$Gconvext2$ est la convection sur la surface extérieure du mur 2.  $Gconvint2$ est la convection sur la surface intérieure du mur 2, ainsi que la convection sur les deux surfaces du mur intérieur.",
      "metadata": {}
    },
    {
      "cell_type": "code",
      "source": "Gconvext1 = hconvext*Sm1\nGconvint1 = hconvint*Sm1\nGconvext2 = hconvext*Sm\nGconvint2 = hconvint*Sm ",
      "metadata": {},
      "execution_count": null,
      "outputs": []
    },
    {
      "cell_type": "markdown",
      "source": "### Conduction #\n$G_{conduction} = {{\\lambda.S} \\over {e}}$  \n$Gcondm1$ est la conductivité de la moitié du mur 1, et $Gcondm2$ est la conductivité de la moitié du mur 2.",
      "metadata": {}
    },
    {
      "cell_type": "code",
      "source": "Gcondm1 = lambois*Sm1*2/emext\nGcondm2 = lambois*Sm*2/emext",
      "metadata": {
        "trusted": true
      },
      "execution_count": null,
      "outputs": []
    },
    {
      "cell_type": "markdown",
      "source": "### Controleur #\n$G_{controleur} = K$",
      "metadata": {}
    },
    {
      "cell_type": "code",
      "source": "Gc = 10**4",
      "metadata": {
        "trusted": true
      },
      "execution_count": null,
      "outputs": []
    },
    {
      "cell_type": "markdown",
      "source": "### Conductance Totale du mur intérieur #",
      "metadata": {}
    },
    {
      "cell_type": "code",
      "source": "Gint = lambois*Spf*2/ep + 1/((2/(Sm*hconvint))+lambois*Sm*2/emint)",
      "metadata": {
        "trusted": true
      },
      "execution_count": null,
      "outputs": []
    },
    {
      "cell_type": "markdown",
      "source": "### Conductance de la porte et la fenêtre du mur 1",
      "metadata": {}
    },
    {
      "cell_type": "code",
      "source": "G1 = Up*Spf+Uf*Spf",
      "metadata": {
        "trusted": true
      },
      "execution_count": null,
      "outputs": []
    },
    {
      "cell_type": "markdown",
      "source": "### Conductance de la fenetre du mur 2",
      "metadata": {}
    },
    {
      "cell_type": "code",
      "source": "G2 = Uf*Spf",
      "metadata": {
        "trusted": true
      },
      "execution_count": null,
      "outputs": []
    },
    {
      "cell_type": "markdown",
      "source": "## Calcul des Capacités Thermiques #\n$C = m.C_{p}$  \n$massem1$ est la masse du mur 1 et $massem2$ est la masse du mur 2. $C1$ est la capacité thermique du mur 1 et $C2$ est la capacité thermique du mur 2.",
      "metadata": {}
    },
    {
      "cell_type": "code",
      "source": "massem1 = mv*Sm1*emext\nmassem2 = mv*Sm*emext\nC1 = massem1*Csp\nC2 = massem2*Csp",
      "metadata": {},
      "execution_count": null,
      "outputs": []
    },
    {
      "cell_type": "markdown",
      "source": "## Equations Différentielles Algébriques\n$C.\\dot{\\theta}=-A^T.G.A\\theta+A^T.G.b+f$  \nIncidence matrix A",
      "metadata": {}
    },
    {
      "cell_type": "code",
      "source": "A = np.zeros((13,8))\nA[0,0]=1\nA[1,0]=-1\nA[1,1]=1\nA[2,1]=-1\nA[2,2]=1\nA[3,2]=-1\nA[3,3]=1\nA[4,3]=1\nA[5,3]=-1\nA[5,4]=1\nA[6,4]=1\nA[6,5]=-1\nA[7,5]=1\nA[7,6]=-1\nA[8,6]=1\nA[8,7]=-1\nA[9,7]=1\nA[10,4]=1\nA[11,3]=1\nA[12,4]=1\nprint(A)",
      "metadata": {
        "trusted": true
      },
      "execution_count": null,
      "outputs": []
    },
    {
      "cell_type": "markdown",
      "source": "Conductance matrix G",
      "metadata": {}
    },
    {
      "cell_type": "code",
      "source": "G=np.diag([Gconvext1,Gcondm1,Gcondm1,Gconvint1,G1,Gint,Gconvint2,Gcondm2,Gcondm2,Gconvext2,G2,Gc,Gc])\nprint(G)",
      "metadata": {
        "trusted": true
      },
      "execution_count": null,
      "outputs": []
    },
    {
      "cell_type": "markdown",
      "source": "Capacity matrix C",
      "metadata": {}
    },
    {
      "cell_type": "code",
      "source": "C = np.zeros((8,8))\nC[1,1]=C1\nC[6,6]=C2\nprint(C)",
      "metadata": {
        "trusted": true
      },
      "execution_count": null,
      "outputs": []
    },
    {
      "cell_type": "markdown",
      "source": "Inputs - Temperature sources b",
      "metadata": {}
    },
    {
      "cell_type": "code",
      "source": "B = np.zeros(13)\nB[0]=Text\nB[4]=Text\nB[9]=Text\nB[10]=Text\nB[11]=Tc\nB[12]=Tc\nprint(B)",
      "metadata": {},
      "execution_count": null,
      "outputs": []
    },
    {
      "cell_type": "markdown",
      "source": "Inputs - Flow rate sources f",
      "metadata": {}
    },
    {
      "cell_type": "code",
      "source": "f[0]=phi1\nf[3]=Q1\nf[4]=Q2\nf[7]=phi2\nprint(f)",
      "metadata": {
        "trusted": true
      },
      "execution_count": null,
      "outputs": []
    },
    {
      "cell_type": "markdown",
      "source": "# PARTIE 2 - REGIME PERMANENT #  \n## Systemes d'Equations différentielles #\nEn régime permanent, on a $\\dot{\\theta}=0$, on résout alors $0=-A^T.G.A\\theta+A^T.G.b+f$  \n",
      "metadata": {}
    },
    {
      "cell_type": "code",
      "source": "AT = np.transpose(A)\nINV = np.linalg.inv(np.dot(np.dot(AT,G),A))\nATGB = np.dot(np.dot(AT,G),B)\ntheta0 = np.dot(INV,ATGB+f)\nprint(theta0-273)",
      "metadata": {
        "trusted": true
      },
      "execution_count": null,
      "outputs": []
    },
    {
      "cell_type": "markdown",
      "source": "## Représentation d'état #\nOn utilise la représentation d'état, on souhaite extraire les valeurs de la température aux noeuds 3 et 4 (dans les deux pièces)",
      "metadata": {}
    },
    {
      "cell_type": "code",
      "source": "Y = np.zeros(8)\nY[3]=1\nY[4]=1\n[As, Bs, Cs, Ds] = dm4bem.tc2ss(A, G, B, C, f, Y)",
      "metadata": {
        "trusted": true
      },
      "execution_count": null,
      "outputs": []
    },
    {
      "cell_type": "markdown",
      "source": "On résout alors :",
      "metadata": {}
    },
    {
      "cell_type": "code",
      "source": "theta = -np.dot(np.dot(np.linalg.inv(As),Bs),U)\nprint(theta-273)",
      "metadata": {},
      "execution_count": null,
      "outputs": []
    },
    {
      "cell_type": "markdown",
      "source": "On remarque que les solutions obtenues avec le systeme différentiel et avec la représentation d'état sont les mêmes.",
      "metadata": {}
    },
    {
      "cell_type": "markdown",
      "source": "# PARTIE 3 - MODELE DYNAMIQUE #  ",
      "metadata": {}
    },
    {
      "cell_type": "code",
      "source": "",
      "metadata": {},
      "execution_count": null,
      "outputs": []
    }
  ]
}